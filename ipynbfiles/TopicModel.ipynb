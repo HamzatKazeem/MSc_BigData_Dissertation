{
 "cells": [
  {
   "cell_type": "code",
   "execution_count": 1,
   "metadata": {},
   "outputs": [],
   "source": [
    "import pandas as pd\n",
    "import numpy as np\n",
    "from sklearn.feature_extraction.text import CountVectorizer\n",
    "from nltk import tokenize\n",
    "import lda\n",
    "import pyLDAvis\n",
    "import pyLDAvis.gensim\n",
    "import warnings\n",
    "warnings.filterwarnings('ignore')\n",
    "#import logging\n",
    "import gensim\n",
    "from gensim.models.ldamodel import LdaModel"
   ]
  },
  {
   "cell_type": "code",
   "execution_count": 2,
   "metadata": {},
   "outputs": [],
   "source": [
    "from nltk.stem.wordnet import WordNetLemmatizer\n",
    "from string import punctuation\n",
    "from nltk.tokenize import word_tokenize\n",
    "from nltk.corpus import stopwords\n",
    "lemma = WordNetLemmatizer()\n",
    "STOPWORDS=set(stopwords.words('english')+list(punctuation))\n",
    "STOPWORDS.remove(\"not\")"
   ]
  },
  {
   "cell_type": "code",
   "execution_count": 3,
   "metadata": {},
   "outputs": [],
   "source": [
    "df_Tpoics = pd.read_csv(\"data/proData/Topic.csv\",  \n",
    "                 dtype={'TweetsproDataID': str,'TweetsText':str,'User_Location':str,'Date':str})"
   ]
  },
  {
   "cell_type": "code",
   "execution_count": 4,
   "metadata": {},
   "outputs": [
    {
     "name": "stdout",
     "output_type": "stream",
     "text": [
      "<class 'pandas.core.frame.DataFrame'>\n",
      "RangeIndex: 6836 entries, 0 to 6835\n",
      "Data columns (total 4 columns):\n",
      " #   Column           Non-Null Count  Dtype \n",
      "---  ------           --------------  ----- \n",
      " 0   TweetsID         6836 non-null   int64 \n",
      " 1   Date             6836 non-null   object\n",
      " 2   text             6836 non-null   object\n",
      " 3   Sentiment_score  6836 non-null   object\n",
      "dtypes: int64(1), object(3)\n",
      "memory usage: 213.8+ KB\n"
     ]
    }
   ],
   "source": [
    "df_Tpoics.info()"
   ]
  },
  {
   "cell_type": "code",
   "execution_count": 5,
   "metadata": {},
   "outputs": [
    {
     "data": {
      "text/html": [
       "<div>\n",
       "<style scoped>\n",
       "    .dataframe tbody tr th:only-of-type {\n",
       "        vertical-align: middle;\n",
       "    }\n",
       "\n",
       "    .dataframe tbody tr th {\n",
       "        vertical-align: top;\n",
       "    }\n",
       "\n",
       "    .dataframe thead th {\n",
       "        text-align: right;\n",
       "    }\n",
       "</style>\n",
       "<table border=\"1\" class=\"dataframe\">\n",
       "  <thead>\n",
       "    <tr style=\"text-align: right;\">\n",
       "      <th></th>\n",
       "      <th>TweetsID</th>\n",
       "      <th>Date</th>\n",
       "      <th>text</th>\n",
       "      <th>Sentiment_score</th>\n",
       "    </tr>\n",
       "  </thead>\n",
       "  <tbody>\n",
       "    <tr>\n",
       "      <th>0</th>\n",
       "      <td>1216910000000000000</td>\n",
       "      <td>24/10/2020 03:29</td>\n",
       "      <td>everything get students back school safely qui...</td>\n",
       "      <td>Positive</td>\n",
       "    </tr>\n",
       "    <tr>\n",
       "      <th>1</th>\n",
       "      <td>191554292</td>\n",
       "      <td>23/10/2020 23:01</td>\n",
       "      <td>approved 5 parishes hit replacements benefits ...</td>\n",
       "      <td>Neutral</td>\n",
       "    </tr>\n",
       "  </tbody>\n",
       "</table>\n",
       "</div>"
      ],
      "text/plain": [
       "              TweetsID              Date  \\\n",
       "0  1216910000000000000  24/10/2020 03:29   \n",
       "1            191554292  23/10/2020 23:01   \n",
       "\n",
       "                                                text Sentiment_score  \n",
       "0  everything get students back school safely qui...        Positive  \n",
       "1  approved 5 parishes hit replacements benefits ...         Neutral  "
      ]
     },
     "execution_count": 5,
     "metadata": {},
     "output_type": "execute_result"
    }
   ],
   "source": [
    "df_Tpoics.head(2)"
   ]
  },
  {
   "cell_type": "code",
   "execution_count": null,
   "metadata": {},
   "outputs": [],
   "source": [
    "#Feature"
   ]
  },
  {
   "cell_type": "code",
   "execution_count": 8,
   "metadata": {},
   "outputs": [
    {
     "name": "stderr",
     "output_type": "stream",
     "text": [
      "INFO:lda:n_documents: 6836\n",
      "INFO:lda:vocab_size: 4074\n",
      "INFO:lda:n_words: 80598\n",
      "INFO:lda:n_topics: 6\n",
      "INFO:lda:n_iter: 100\n",
      "WARNING:lda:all zero row in document-term matrix found\n",
      "INFO:lda:<0> log likelihood: -855488\n",
      "INFO:lda:<10> log likelihood: -661107\n",
      "INFO:lda:<20> log likelihood: -642355\n",
      "INFO:lda:<30> log likelihood: -633619\n",
      "INFO:lda:<40> log likelihood: -628150\n",
      "INFO:lda:<50> log likelihood: -624530\n",
      "INFO:lda:<60> log likelihood: -622074\n",
      "INFO:lda:<70> log likelihood: -619570\n",
      "INFO:lda:<80> log likelihood: -618569\n",
      "INFO:lda:<90> log likelihood: -617496\n",
      "INFO:lda:<99> log likelihood: -617008\n"
     ]
    }
   ],
   "source": [
    "cvectorizer = CountVectorizer(min_df=3, max_features=10000, tokenizer=lemmatize_text, ngram_range=(1,1),stop_words=STOPWORDS)\n",
    "\n",
    "cvz = cvectorizer.fit_transform(df_Tpoics['text'])\n",
    "\n",
    "n_topics = 6\n",
    "n_iter = 100\n",
    "lda_model = lda.LDA(n_topics=n_topics, n_iter=n_iter)\n",
    "X_topics = lda_model.fit_transform(cvz)"
   ]
  },
  {
   "cell_type": "code",
   "execution_count": 9,
   "metadata": {},
   "outputs": [
    {
     "name": "stdout",
     "output_type": "stream",
     "text": [
      "Topic 0: help damage disaster need please affected\n",
      "Topic 1: storm wind tropical landfall season rain\n",
      "Topic 2: storm weather new video eye water\n",
      "Topic 3: power day get not like back\n",
      "Topic 4: tree safe power home stay please\n",
      "Topic 5: power outage without crew damage customer\n"
     ]
    }
   ],
   "source": [
    "# Topics in more detail below\n",
    "\n",
    "n_top_words = 6\n",
    "topic_summaries = []\n",
    "\n",
    "topic_word = lda_model.topic_word_ \n",
    "vocab = cvectorizer.get_feature_names() \n",
    "for i, topic_dist in enumerate(topic_word):\n",
    "    topic_words = np.array(vocab)[np.argsort(topic_dist)][:-(n_top_words+1):-1]\n",
    "    topic_summaries.append(' '.join(topic_words))\n",
    "    print('Topic {}: {}'.format(i, ' '.join(topic_words)))"
   ]
  },
  {
   "cell_type": "code",
   "execution_count": 10,
   "metadata": {},
   "outputs": [],
   "source": [
    "# Visualization to explore LDA topics using pyldavis\n",
    "    \n",
    "df_Tpoics['len_docs'] = df_Tpoics['text'].map(len)"
   ]
  },
  {
   "cell_type": "code",
   "execution_count": 11,
   "metadata": {},
   "outputs": [],
   "source": [
    "ldadata = prepareLDAData()"
   ]
  },
  {
   "cell_type": "code",
   "execution_count": 12,
   "metadata": {},
   "outputs": [],
   "source": [
    "pyLDAvis.enable_notebook()"
   ]
  },
  {
   "cell_type": "code",
   "execution_count": 13,
   "metadata": {},
   "outputs": [
    {
     "name": "stderr",
     "output_type": "stream",
     "text": [
      "INFO:numexpr.utils:NumExpr defaulting to 8 threads.\n"
     ]
    }
   ],
   "source": [
    "prepared_data = pyLDAvis.prepare(**ldadata)"
   ]
  },
  {
   "cell_type": "code",
   "execution_count": 19,
   "metadata": {},
   "outputs": [],
   "source": [
    "pyLDAvis.save_html(prepared_data,'pyldadaviss.html')"
   ]
  },
  {
   "cell_type": "code",
   "execution_count": 1,
   "metadata": {},
   "outputs": [],
   "source": [
    "#prepared_data"
   ]
  },
  {
   "cell_type": "code",
   "execution_count": 6,
   "metadata": {},
   "outputs": [],
   "source": [
    "def lemmatize_text(tweets):  \n",
    "    tweets = word_tokenize(tweets)\n",
    "    valid_Words=[]\n",
    "    for word in tweets :\n",
    "        if word in STOPWORDS or word=='URL' or word=='user_mention' or word=='hurricanelaura' or word=='amp'or word=='delta'or word=='louisiana' or word=='laura' or word=='hurricane' or word=='zeta' or word=='hurricanedelta'or word=='amp' or word=='dsnap' or word=='nola'or 'hurricane' in word or len(word) <=2 :continue\n",
    "        valid_Words.append(word)\n",
    "        tweets=[lemma.lemmatize(word) for word in valid_Words]\n",
    "        #tweets=' '.join(valid_Words)\n",
    "    return tweets"
   ]
  },
  {
   "cell_type": "code",
   "execution_count": 7,
   "metadata": {},
   "outputs": [],
   "source": [
    "\n",
    "def prepareLDAData():\n",
    "    data = {\n",
    "        'vocab': vocab,\n",
    "        'doc_topic_dists': lda_model.doc_topic_,\n",
    "        'doc_lengths': list(df_Tpoics['len_docs']),\n",
    "        'term_frequency':cvectorizer.vocabulary_,\n",
    "        'topic_term_dists': lda_model.components_\n",
    "    } \n",
    "    return data"
   ]
  },
  {
   "cell_type": "code",
   "execution_count": null,
   "metadata": {},
   "outputs": [],
   "source": [
    "from gensim.models import CoherenceModel\n",
    "# Compute Coherence Score\n",
    "coherence_model_lda = CoherenceModel(model=lda.LDA(n_topics=n_topics, n_iter=n_iter), texts=lemmatize_text, dictionary=vocab, coherence='c_v')\n",
    "coherence_lda = coherence_model_lda.get_coherence()\n",
    "print('\\nCoherence Score: ', coherence_lda)"
   ]
  },
  {
   "cell_type": "markdown",
   "metadata": {},
   "source": [
    "Coherence Score:  0.3305274063700288"
   ]
  },
  {
   "cell_type": "code",
   "execution_count": null,
   "metadata": {},
   "outputs": [],
   "source": []
  }
 ],
 "metadata": {
  "kernelspec": {
   "display_name": "Python 3",
   "language": "python",
   "name": "python3"
  },
  "language_info": {
   "codemirror_mode": {
    "name": "ipython",
    "version": 3
   },
   "file_extension": ".py",
   "mimetype": "text/x-python",
   "name": "python",
   "nbconvert_exporter": "python",
   "pygments_lexer": "ipython3",
   "version": "3.7.7"
  }
 },
 "nbformat": 4,
 "nbformat_minor": 4
}

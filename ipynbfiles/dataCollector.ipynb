{
 "cells": [
  {
   "cell_type": "code",
   "execution_count": 1,
   "metadata": {},
   "outputs": [
    {
     "name": "stdout",
     "output_type": "stream",
     "text": [
      "Successfully connected to Twitter\n",
      "\n"
     ]
    },
    {
     "name": "stderr",
     "output_type": "stream",
     "text": [
      "Exception in thread Thread-6:\n",
      "Traceback (most recent call last):\n",
      "  File \"C:\\ProgramData\\Anaconda3\\lib\\site-packages\\urllib3\\response.py\", line 362, in _error_catcher\n",
      "    yield\n",
      "  File \"C:\\ProgramData\\Anaconda3\\lib\\site-packages\\urllib3\\response.py\", line 444, in read\n",
      "    data = self._fp.read(amt)\n",
      "  File \"C:\\ProgramData\\Anaconda3\\lib\\http\\client.py\", line 457, in read\n",
      "    n = self.readinto(b)\n",
      "  File \"C:\\ProgramData\\Anaconda3\\lib\\http\\client.py\", line 491, in readinto\n",
      "    return self._readinto_chunked(b)\n",
      "  File \"C:\\ProgramData\\Anaconda3\\lib\\http\\client.py\", line 586, in _readinto_chunked\n",
      "    chunk_left = self._get_chunk_left()\n",
      "  File \"C:\\ProgramData\\Anaconda3\\lib\\http\\client.py\", line 554, in _get_chunk_left\n",
      "    chunk_left = self._read_next_chunk_size()\n",
      "  File \"C:\\ProgramData\\Anaconda3\\lib\\http\\client.py\", line 514, in _read_next_chunk_size\n",
      "    line = self.fp.readline(_MAXLINE + 1)\n",
      "  File \"C:\\ProgramData\\Anaconda3\\lib\\socket.py\", line 589, in readinto\n",
      "    return self._sock.recv_into(b)\n",
      "  File \"C:\\ProgramData\\Anaconda3\\lib\\ssl.py\", line 1071, in recv_into\n",
      "    return self.read(nbytes, buffer)\n",
      "  File \"C:\\ProgramData\\Anaconda3\\lib\\ssl.py\", line 929, in read\n",
      "    return self._sslobj.read(len, buffer)\n",
      "ConnectionResetError: [WinError 10054] An existing connection was forcibly closed by the remote host\n",
      "\n",
      "During handling of the above exception, another exception occurred:\n",
      "\n",
      "Traceback (most recent call last):\n",
      "  File \"C:\\ProgramData\\Anaconda3\\lib\\threading.py\", line 926, in _bootstrap_inner\n",
      "    self.run()\n",
      "  File \"C:\\ProgramData\\Anaconda3\\lib\\threading.py\", line 870, in run\n",
      "    self._target(*self._args, **self._kwargs)\n",
      "  File \"C:\\ProgramData\\Anaconda3\\lib\\site-packages\\tweepy\\streaming.py\", line 320, in _run\n",
      "    six.reraise(*exc_info)\n",
      "  File \"C:\\ProgramData\\Anaconda3\\lib\\site-packages\\six.py\", line 703, in reraise\n",
      "    raise value\n",
      "  File \"C:\\ProgramData\\Anaconda3\\lib\\site-packages\\tweepy\\streaming.py\", line 289, in _run\n",
      "    self._read_loop(resp)\n",
      "  File \"C:\\ProgramData\\Anaconda3\\lib\\site-packages\\tweepy\\streaming.py\", line 339, in _read_loop\n",
      "    line = buf.read_line()\n",
      "  File \"C:\\ProgramData\\Anaconda3\\lib\\site-packages\\tweepy\\streaming.py\", line 200, in read_line\n",
      "    self._buffer += self._stream.read(self._chunk_size)\n",
      "  File \"C:\\ProgramData\\Anaconda3\\lib\\site-packages\\urllib3\\response.py\", line 461, in read\n",
      "    raise IncompleteRead(self._fp_bytes_read, self.length_remaining)\n",
      "  File \"C:\\ProgramData\\Anaconda3\\lib\\contextlib.py\", line 130, in __exit__\n",
      "    self.gen.throw(type, value, traceback)\n",
      "  File \"C:\\ProgramData\\Anaconda3\\lib\\site-packages\\urllib3\\response.py\", line 380, in _error_catcher\n",
      "    raise ProtocolError('Connection broken: %r' % e, e)\n",
      "urllib3.exceptions.ProtocolError: (\"Connection broken: ConnectionResetError(10054, 'An existing connection was forcibly closed by the remote host', None, 10054, None)\", ConnectionResetError(10054, 'An existing connection was forcibly closed by the remote host', None, 10054, None))\n",
      "\n"
     ]
    }
   ],
   "source": [
    "import sheffkeys,tweepy,time\n",
    "auth=tweepy.OAuthHandler(sheffkeys.consumer_key,sheffkeys.consumer_secret)\n",
    "auth.set_access_token(sheffkeys.access_token,sheffkeys.access_token_secret)\n",
    "api=tweepy.API(auth,wait_on_rate_limit=True,wait_on_rate_limit_notify=True)\n",
    "from pymongo import MongoClient\n",
    "atlas_client = MongoClient(sheffkeys.mongo_connection_string)\n",
    "dbase = atlas_client.HurricaneZeta\n",
    "\n",
    "import json\n",
    "import tweepy\n",
    "\n",
    "class TweetListener(tweepy.StreamListener):\n",
    "    \n",
    "    \"\"\"Handles incoming Tweet stream.\"\"\"\n",
    "\n",
    "    def __init__(self, api, database, limit=10000000):\n",
    "            \"\"\"Create instance variables for tracking number of tweets.\"\"\"\n",
    "            self.dbase = database\n",
    "            self.tweet_count = 0\n",
    "            self.TWEET_LIMIT = limit  # 10,000 by default\n",
    "            super().__init__(api)  # call superclass's init\n",
    "\n",
    "    def on_connect(self):\n",
    "        \"\"\"Called when your connection attempt is successful, enabling \n",
    "       you to perform appropriate application tasks at that point.\n",
    "       \"\"\"\n",
    "    print('Successfully connected to Twitter\\n')\n",
    "\n",
    "    def on_data(self, data):\n",
    "        \"\"\"Called when Twitter pushes a new tweet to you.\"\"\"\n",
    "        self.tweet_count += 1  # track number of tweets processed\n",
    "        json_data = json.loads(data)  # convert string to JSON\n",
    "        self.dbase.tweets.insert_one(json_data)  # store in tweets collection\n",
    "        print(f'    Screen name: {json_data[\"user\"][\"name\"]}') \n",
    "        print(f'     Created at: {json_data[\"created_at\"]}') \n",
    "        print(f'Tweets received: {self.tweet_count}')  \n",
    "\n",
    "       # if TWEET_LIMIT is reached, return False to terminate streaming\n",
    "        return self.tweet_count != self.TWEET_LIMIT\n",
    "    def on_error(self, status):\n",
    "        print(status)\n",
    "        return True\n",
    "tweet_limit=10000000\n",
    "twitter_stream=tweepy.Stream(api.auth,TweetListener(api,dbase,tweet_limit))\n",
    "twitter_stream.filter(track=['#hurricanezeta' or 'hurricanezeta' or '#zeta'],languages=[\"en\"],is_async=True)"
   ]
  },
  {
   "cell_type": "code",
   "execution_count": null,
   "metadata": {},
   "outputs": [],
   "source": []
  },
  {
   "cell_type": "code",
   "execution_count": null,
   "metadata": {},
   "outputs": [],
   "source": []
  }
 ],
 "metadata": {
  "kernelspec": {
   "display_name": "Python 3",
   "language": "python",
   "name": "python3"
  },
  "language_info": {
   "codemirror_mode": {
    "name": "ipython",
    "version": 3
   },
   "file_extension": ".py",
   "mimetype": "text/x-python",
   "name": "python",
   "nbconvert_exporter": "python",
   "pygments_lexer": "ipython3",
   "version": "3.7.7"
  }
 },
 "nbformat": 4,
 "nbformat_minor": 4
}

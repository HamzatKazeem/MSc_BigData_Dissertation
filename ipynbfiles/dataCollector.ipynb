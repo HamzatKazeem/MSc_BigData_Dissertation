{
 "cells": [
  {
   "cell_type": "code",
   "execution_count": 1,
   "metadata": {},
   "outputs": [
    {
     "name": "stdout",
     "output_type": "stream",
     "text": [
      "Successfully connected to Twitter\n",
      "\n"
     ]
    }
   ],
   "source": [
    "import sheffkeys,tweepy,time\n",
    "auth=tweepy.OAuthHandler(sheffkeys.consumer_key,sheffkeys.consumer_secret)\n",
    "auth.set_access_token(sheffkeys.access_token,sheffkeys.access_token_secret)\n",
    "api=tweepy.API(auth,wait_on_rate_limit=True,wait_on_rate_limit_notify=True)\n",
    "from pymongo import MongoClient\n",
    "atlas_client = MongoClient(sheffkeys.mongo_connection_string)\n",
    "dbase = atlas_client.HurricaneZeta\n",
    "import json\n",
    "import tweepy\n",
    "\n",
    "class TweetListener(tweepy.StreamListener):\n",
    "    \n",
    "    \"\"\"Handles incoming Tweet stream.\"\"\"\n",
    "\n",
    "    def __init__(self, api, database, limit=10000000):\n",
    "            \"\"\"Create instance variables for tracking number of tweets.\"\"\"\n",
    "            self.dbase = database\n",
    "            self.tweet_count = 0\n",
    "            self.TWEET_LIMIT = limit  # 10,000 by default\n",
    "            super().__init__(api)  # call superclass's init\n",
    "\n",
    "    def on_connect(self):\n",
    "        \"\"\"Called when your connection attempt is successful, enabling \n",
    "       you to perform appropriate application tasks at that point.\n",
    "       \"\"\"\n",
    "    print('Successfully connected to Twitter\\n')\n",
    "\n",
    "    def on_data(self, data):\n",
    "        \"\"\"Called when Twitter pushes a new tweet to you.\"\"\"\n",
    "        self.tweet_count += 1  # track number of tweets processed\n",
    "        json_data = json.loads(data)  # convert string to JSON\n",
    "        self.dbase.tweets.insert_one(json_data)  # store in tweets collection\n",
    "        print(f'    Screen name: {json_data[\"user\"][\"name\"]}') \n",
    "        print(f'     Created at: {json_data[\"created_at\"]}') \n",
    "        print(f'Tweets received: {self.tweet_count}')  \n",
    "\n",
    "       # if TWEET_LIMIT is reached, return False to terminate streaming\n",
    "        return self.tweet_count != self.TWEET_LIMIT\n",
    "    def on_error(self, status):\n",
    "        print(status)\n",
    "        return True\n",
    "tweet_limit=10000000\n",
    "twitter_stream=tweepy.Stream(api.auth,TweetListener(api,dbase,tweet_limit))\n",
    "twitter_stream.filter(track=['#hurricanezeta' or 'hurricanezeta' or '#zeta'],languages=[\"en\"],is_async=True)"
   ]
  },
  {
   "cell_type": "code",
   "execution_count": null,
   "metadata": {},
   "outputs": [],
   "source": []
  },
  {
   "cell_type": "code",
   "execution_count": null,
   "metadata": {},
   "outputs": [],
   "source": []
  }
 ],
 "metadata": {
  "kernelspec": {
   "display_name": "Python 3",
   "language": "python",
   "name": "python3"
  },
  "language_info": {
   "codemirror_mode": {
    "name": "ipython",
    "version": 3
   },
   "file_extension": ".py",
   "mimetype": "text/x-python",
   "name": "python",
   "nbconvert_exporter": "python",
   "pygments_lexer": "ipython3",
   "version": "3.7.7"
  }
 },
 "nbformat": 4,
 "nbformat_minor": 4
}

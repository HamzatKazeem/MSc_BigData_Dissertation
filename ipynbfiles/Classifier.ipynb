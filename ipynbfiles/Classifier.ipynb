{
 "cells": [
  {
   "cell_type": "markdown",
   "metadata": {},
   "source": [
    "# Stage 1: Creating the Classifier\n",
    "This module performs the Data quality checks and creation of the lexical classifier of Tweets into Relevant and Non-Relevant"
   ]
  },
  {
   "cell_type": "code",
   "execution_count": 1,
   "metadata": {},
   "outputs": [],
   "source": [
    "import pandas as pd\n",
    "from termcolor import colored\n",
    "from nltk.stem.wordnet import WordNetLemmatizer\n",
    "from string import punctuation\n",
    "from nltk.tokenize import word_tokenize\n",
    "from nltk.corpus import stopwords\n",
    "import csv\n",
    "import re\n",
    "import matplotlib.pyplot as plt\n",
    "import seaborn as sns"
   ]
  },
  {
   "cell_type": "code",
   "execution_count": 2,
   "metadata": {},
   "outputs": [],
   "source": [
    "lemma = WordNetLemmatizer()\n",
    "STOPWORDS=set(stopwords.words('english')+list(punctuation))\n",
    "STOPWORDS.remove(\"not\")"
   ]
  },
  {
   "cell_type": "markdown",
   "metadata": {},
   "source": [
    "# Classification Tweets into:   Relevant vs Non-Relevant"
   ]
  },
  {
   "cell_type": "code",
   "execution_count": 8,
   "metadata": {},
   "outputs": [],
   "source": [
    "tweets=classify()"
   ]
  },
  {
   "cell_type": "code",
   "execution_count": 9,
   "metadata": {},
   "outputs": [
    {
     "data": {
      "text/plain": [
       "{'TweetsID': '1216910000000000000',\n",
       " 'TweetsText': 'were doing everything we can to get our students back in school safely and quickly post hurricanelaura amp hurricanedelta and are thankful to those whove helped already but we need somebody who can get us tents or something asap catholictwitter ',\n",
       " 'User_Location': 'LOCATION',\n",
       " 'Date': '24/10/2020 03:29',\n",
       " 'Baseline_Terms': ['get', 'need', 'get'],\n",
       " 'Prediction': 1}"
      ]
     },
     "execution_count": 9,
     "metadata": {},
     "output_type": "execute_result"
    }
   ],
   "source": [
    "tweets[0] #Sample of classified tweet"
   ]
  },
  {
   "cell_type": "code",
   "execution_count": 10,
   "metadata": {},
   "outputs": [],
   "source": [
    "predictedTweetsClass=pd.DataFrame(tweets) # Converting list to Dataframes  "
   ]
  },
  {
   "cell_type": "code",
   "execution_count": 11,
   "metadata": {},
   "outputs": [
    {
     "data": {
      "text/html": [
       "<div>\n",
       "<style scoped>\n",
       "    .dataframe tbody tr th:only-of-type {\n",
       "        vertical-align: middle;\n",
       "    }\n",
       "\n",
       "    .dataframe tbody tr th {\n",
       "        vertical-align: top;\n",
       "    }\n",
       "\n",
       "    .dataframe thead th {\n",
       "        text-align: right;\n",
       "    }\n",
       "</style>\n",
       "<table border=\"1\" class=\"dataframe\">\n",
       "  <thead>\n",
       "    <tr style=\"text-align: right;\">\n",
       "      <th></th>\n",
       "      <th>TweetsID</th>\n",
       "      <th>TweetsText</th>\n",
       "      <th>User_Location</th>\n",
       "      <th>Date</th>\n",
       "      <th>Baseline_Terms</th>\n",
       "      <th>Prediction</th>\n",
       "    </tr>\n",
       "  </thead>\n",
       "  <tbody>\n",
       "    <tr>\n",
       "      <th>0</th>\n",
       "      <td>1216910000000000000</td>\n",
       "      <td>were doing everything we can to get our studen...</td>\n",
       "      <td>LOCATION</td>\n",
       "      <td>24/10/2020 03:29</td>\n",
       "      <td>[get, need, get]</td>\n",
       "      <td>1</td>\n",
       "    </tr>\n",
       "    <tr>\n",
       "      <th>1</th>\n",
       "      <td>40367314</td>\n",
       "      <td>URL thanks user_mention amp user_mention amp ...</td>\n",
       "      <td>Danny St.</td>\n",
       "      <td>24/10/2020 03:01</td>\n",
       "      <td>[]</td>\n",
       "      <td>0</td>\n",
       "    </tr>\n",
       "  </tbody>\n",
       "</table>\n",
       "</div>"
      ],
      "text/plain": [
       "              TweetsID                                         TweetsText  \\\n",
       "0  1216910000000000000  were doing everything we can to get our studen...   \n",
       "1             40367314   URL thanks user_mention amp user_mention amp ...   \n",
       "\n",
       "  User_Location              Date    Baseline_Terms  Prediction  \n",
       "0      LOCATION  24/10/2020 03:29  [get, need, get]           1  \n",
       "1     Danny St.  24/10/2020 03:01                []           0  "
      ]
     },
     "execution_count": 11,
     "metadata": {},
     "output_type": "execute_result"
    }
   ],
   "source": [
    "predictedTweetsClass.head(2)"
   ]
  },
  {
   "cell_type": "code",
   "execution_count": 12,
   "metadata": {},
   "outputs": [
    {
     "name": "stdout",
     "output_type": "stream",
     "text": [
      "<class 'pandas.core.frame.DataFrame'>\n",
      "RangeIndex: 8766 entries, 0 to 8765\n",
      "Data columns (total 6 columns):\n",
      " #   Column          Non-Null Count  Dtype \n",
      "---  ------          --------------  ----- \n",
      " 0   TweetsID        8766 non-null   object\n",
      " 1   TweetsText      8766 non-null   object\n",
      " 2   User_Location   8766 non-null   object\n",
      " 3   Date            8766 non-null   object\n",
      " 4   Baseline_Terms  8766 non-null   object\n",
      " 5   Prediction      8766 non-null   int64 \n",
      "dtypes: int64(1), object(5)\n",
      "memory usage: 411.0+ KB\n"
     ]
    }
   ],
   "source": [
    "predictedTweetsClass.info()"
   ]
  },
  {
   "cell_type": "markdown",
   "metadata": {},
   "source": [
    "# Visualizing Classified Tweets"
   ]
  },
  {
   "cell_type": "code",
   "execution_count": 17,
   "metadata": {},
   "outputs": [
    {
     "data": {
      "text/plain": [
       "1    6385\n",
       "0    2381\n",
       "Name: Prediction, dtype: int64"
      ]
     },
     "execution_count": 17,
     "metadata": {},
     "output_type": "execute_result"
    }
   ],
   "source": [
    "Tweet_count =predictedTweetsClass['Prediction'].value_counts()\n",
    "Tweet_count"
   ]
  },
  {
   "cell_type": "code",
   "execution_count": 76,
   "metadata": {},
   "outputs": [
    {
     "data": {
      "image/png": "[encoded data removed]",
      "text/plain": [
       "<Figure size 648x648 with 1 Axes>"
      ]
     },
     "metadata": {
      "needs_background": "light"
     },
     "output_type": "display_data"
    }
   ],
   "source": [
    "plot_barchat()"
   ]
  },
  {
   "cell_type": "markdown",
   "metadata": {},
   "source": [
    "# REPORTS"
   ]
  },
  {
   "cell_type": "code",
   "execution_count": null,
   "metadata": {},
   "outputs": [],
   "source": [
    "#6,385 were classified as Relevant                                                                                                     \n",
    "#2,381 were classified as Non-Relevant"
   ]
  },
  {
   "cell_type": "raw",
   "metadata": {},
   "source": [
    "# Saving Classified tweets"
   ]
  },
  {
   "cell_type": "code",
   "execution_count": 15,
   "metadata": {},
   "outputs": [],
   "source": [
    "predictedTweetsClass.to_csv('data/proData/predictedTweets1.txt', index = False) #Saving distinct Tweets to CSV File"
   ]
  },
  {
   "cell_type": "code",
   "execution_count": null,
   "metadata": {},
   "outputs": [],
   "source": []
  },
  {
   "cell_type": "markdown",
   "metadata": {},
   "source": [
    "# Corresponding functions used in above experiments"
   ]
  },
  {
   "cell_type": "code",
   "execution_count": 4,
   "metadata": {},
   "outputs": [],
   "source": [
    "def classify():\n",
    "    lex_WORDS_FILE = 'C:/Users/Kazeem Hamzat/CrisisLexRec.txt'\n",
    "    lex_words = file_to_wordset()\n",
    "    #set(open(lex_WORDS_FILE).read().split('\\n'))\n",
    "    predictions = []\n",
    "    \n",
    "    with open('data/proData/processdata.csv', 'r',encoding=\"utf8\") as csvfile:\n",
    "        reader = csv.reader(csvfile)\n",
    "        next(reader)\n",
    "        lex1=[]\n",
    "        for line in reader:\n",
    "            lex={}\n",
    "            TweetsID, TweetsText,User_Location,Date= line\n",
    "            lex['TweetsID']=TweetsID\n",
    "            lex['TweetsText']=TweetsText\n",
    "            lex['User_Location']=User_Location\n",
    "            lex['Date']=Date\n",
    "        # ignore retweets \n",
    "            pos_count=0\n",
    "            if lex['TweetsText'].startswith('RT') or len(lex['TweetsText']) < 4:\n",
    "                pass \n",
    "            else:\n",
    "                word=lemmatize_text(lex['TweetsText'])\n",
    "                found_words=[]\n",
    "                for words in word:                                   \n",
    "                    if words in lex_words:\n",
    "                        found_words.append(words)\n",
    "                        pos_count += 1\n",
    "                # saving crisis terms found and overall classification of the tweet\n",
    "                lex['Baseline_Terms']=found_words\n",
    "                lex['Prediction'] = 1 if pos_count >=1 else 0\n",
    "                lex1.append(lex)\n",
    "        return lex1"
   ]
  },
  {
   "cell_type": "code",
   "execution_count": 74,
   "metadata": {},
   "outputs": [],
   "source": [
    "def plot_barchat():\n",
    "    plt.figure(figsize = (9, 9))\n",
    "    plt.bar(['Relevant', 'Non-Relevant'], Tweet_count.values, color = ['g', 'r'])\n",
    "    for i, v in enumerate(Tweet_count.values):\n",
    "        plt.text(i - 0.1, v + 100, str(v))\n",
    "    plt.xlabel(\"Tweets Categories\")\n",
    "    plt.ylabel(\"Tweets count\")\n",
    "    plt.title(\"CLASS DISTRIBUTION: Relevant vs Non-Relevant\")\n",
    "    plt.savefig('compare_class.png')\n",
    "    colors = {'Relevant':'green', 'Non-Relevant':'red'}         \n",
    "    labels = list(colors.keys())\n",
    "    handles = plt.bar(['Relevant', 'Non-Relevant'], Tweet_count.values, color = ['g', 'r'])\n",
    "    plt.legend(handles,labels)\n",
    "    \n"
   ]
  },
  {
   "cell_type": "code",
   "execution_count": 6,
   "metadata": {},
   "outputs": [],
   "source": [
    "def file_to_wordset():\n",
    "    ''' Converts a file with a word per line to a Python set '''\n",
    "    words1 = []\n",
    "    with open('CrisisLexRec.txt', 'r',encoding=\"utf8\") as f:\n",
    "        for line in f:\n",
    "            words = word_tokenize(line)\n",
    "            \n",
    "            word=[lemma.lemmatize(word) for word in words]\n",
    "            for words in word:\n",
    "                #print(words)\n",
    "            #words.append(line.strip())\n",
    "                words1.append(words)\n",
    "    return set(words1)"
   ]
  },
  {
   "cell_type": "code",
   "execution_count": 7,
   "metadata": {},
   "outputs": [],
   "source": [
    "def lemmatize_text(tweets):  \n",
    "    tweets = word_tokenize(tweets)\n",
    "    valid_Words=[]\n",
    "    for word in tweets :\n",
    "        if word in STOPWORDS or word=='URL' or word=='user_mention' or word=='hurricanelaura' or word=='amp'or word=='delta'or word=='louisiana' or word=='laura' or word=='hurricane' or word=='zeta' or word=='hurricanedelta'or word=='amp' or word=='dsnap' or word=='gtgt' or 'hurricane' in word or word=='…' :continue\n",
    "        valid_Words.append(word)\n",
    "        tweets=[lemma.lemmatize(word) for word in valid_Words]\n",
    "    return tweets"
   ]
  },
  {
   "cell_type": "code",
   "execution_count": null,
   "metadata": {},
   "outputs": [],
   "source": []
  }
 ],
 "metadata": {
  "kernelspec": {
   "display_name": "Python 3",
   "language": "python",
   "name": "python3"
  },
  "language_info": {
   "codemirror_mode": {
    "name": "ipython",
    "version": 3
   },
   "file_extension": ".py",
   "mimetype": "text/x-python",
   "name": "python",
   "nbconvert_exporter": "python",
   "pygments_lexer": "ipython3",
   "version": "3.7.7"
  }
 },
 "nbformat": 4,
 "nbformat_minor": 4
}

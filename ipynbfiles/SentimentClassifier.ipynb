{
 "cells": [
  {
   "cell_type": "code",
   "execution_count": 60,
   "metadata": {},
   "outputs": [],
   "source": [
    "import numpy as np\n",
    "import pandas as pd\n",
    "import matplotlib.pyplot as plt\n",
    "import seaborn as sns\n",
    "import re\n",
    "import warnings\n",
    "import nltk\n",
    "from nltk.corpus import stopwords\n",
    "from termcolor import colored\n",
    "from nltk.stem import WordNetLemmatizer\n",
    "from sklearn.feature_extraction.text import CountVectorizer, TfidfVectorizer\n",
    "from sklearn.model_selection import train_test_split,KFold,cross_val_score\n",
    "from sklearn.naive_bayes import MultinomialNB\n",
    "from sklearn.tree import DecisionTreeClassifier\n",
    "from sklearn.metrics import classification_report,confusion_matrix,accuracy_score,roc_curve, auc\n",
    "from termcolor import colored\n",
    "from nltk.stem.wordnet import WordNetLemmatizer\n",
    "from string import punctuation\n",
    "from nltk.tokenize import word_tokenize"
   ]
  },
  {
   "cell_type": "code",
   "execution_count": 82,
   "metadata": {},
   "outputs": [],
   "source": [
    "lemma = WordNetLemmatizer()\n",
    "STOPWORDS=set(stopwords.words('english')+list(punctuation))\n",
    "STOPWORDS.remove(\"not\")"
   ]
  },
  {
   "cell_type": "markdown",
   "metadata": {},
   "source": [
    "# LOADING LABELLED DATA"
   ]
  },
  {
   "cell_type": "code",
   "execution_count": 8,
   "metadata": {},
   "outputs": [],
   "source": [
    "sentimentData=pd.read_csv('data/proData/sentimentData.csv')"
   ]
  },
  {
   "cell_type": "code",
   "execution_count": 9,
   "metadata": {},
   "outputs": [
    {
     "name": "stdout",
     "output_type": "stream",
     "text": [
      "<class 'pandas.core.frame.DataFrame'>\n",
      "RangeIndex: 6848 entries, 0 to 6847\n",
      "Data columns (total 9 columns):\n",
      " #   Column           Non-Null Count  Dtype \n",
      "---  ------           --------------  ----- \n",
      " 0   TweetsID         6848 non-null   int64 \n",
      " 1   TweetsText       6848 non-null   object\n",
      " 2   User_Location    6848 non-null   object\n",
      " 3   Date             6848 non-null   object\n",
      " 4   Baseline_Terms   6848 non-null   object\n",
      " 5   Prediction       6848 non-null   int64 \n",
      " 6   Positive         6848 non-null   int64 \n",
      " 7   Negative         6848 non-null   int64 \n",
      " 8   Sentiment_score  6848 non-null   object\n",
      "dtypes: int64(4), object(5)\n",
      "memory usage: 481.6+ KB\n"
     ]
    }
   ],
   "source": [
    "sentimentData.info()"
   ]
  },
  {
   "cell_type": "code",
   "execution_count": 50,
   "metadata": {},
   "outputs": [
    {
     "data": {
      "text/html": [
       "<div>\n",
       "<style scoped>\n",
       "    .dataframe tbody tr th:only-of-type {\n",
       "        vertical-align: middle;\n",
       "    }\n",
       "\n",
       "    .dataframe tbody tr th {\n",
       "        vertical-align: top;\n",
       "    }\n",
       "\n",
       "    .dataframe thead th {\n",
       "        text-align: right;\n",
       "    }\n",
       "</style>\n",
       "<table border=\"1\" class=\"dataframe\">\n",
       "  <thead>\n",
       "    <tr style=\"text-align: right;\">\n",
       "      <th></th>\n",
       "      <th>TweetsID</th>\n",
       "      <th>TweetsText</th>\n",
       "      <th>User_Location</th>\n",
       "      <th>Date</th>\n",
       "      <th>Baseline_Terms</th>\n",
       "      <th>Prediction</th>\n",
       "      <th>Positive</th>\n",
       "      <th>Negative</th>\n",
       "      <th>Sentiment_score</th>\n",
       "    </tr>\n",
       "  </thead>\n",
       "  <tbody>\n",
       "    <tr>\n",
       "      <th>0</th>\n",
       "      <td>1216910000000000000</td>\n",
       "      <td>were doing everything we can to get our studen...</td>\n",
       "      <td>LOCATION</td>\n",
       "      <td>24/10/2020 03:29</td>\n",
       "      <td>['get', 'need', 'get']</td>\n",
       "      <td>1</td>\n",
       "      <td>2</td>\n",
       "      <td>-1</td>\n",
       "      <td>Positive</td>\n",
       "    </tr>\n",
       "    <tr>\n",
       "      <th>1</th>\n",
       "      <td>191554292</td>\n",
       "      <td>dsnap approved for 5 louisiana parishes hit by...</td>\n",
       "      <td>Baton Rouge, LA</td>\n",
       "      <td>23/10/2020 23:01</td>\n",
       "      <td>['hit']</td>\n",
       "      <td>1</td>\n",
       "      <td>1</td>\n",
       "      <td>-1</td>\n",
       "      <td>Neutral</td>\n",
       "    </tr>\n",
       "  </tbody>\n",
       "</table>\n",
       "</div>"
      ],
      "text/plain": [
       "              TweetsID                                         TweetsText  \\\n",
       "0  1216910000000000000  were doing everything we can to get our studen...   \n",
       "1            191554292  dsnap approved for 5 louisiana parishes hit by...   \n",
       "\n",
       "     User_Location              Date          Baseline_Terms  Prediction  \\\n",
       "0         LOCATION  24/10/2020 03:29  ['get', 'need', 'get']           1   \n",
       "1  Baton Rouge, LA  23/10/2020 23:01                 ['hit']           1   \n",
       "\n",
       "   Positive  Negative Sentiment_score  \n",
       "0         2        -1        Positive  \n",
       "1         1        -1         Neutral  "
      ]
     },
     "execution_count": 50,
     "metadata": {},
     "output_type": "execute_result"
    }
   ],
   "source": [
    "sentimentData.head(2)"
   ]
  },
  {
   "cell_type": "code",
   "execution_count": 51,
   "metadata": {},
   "outputs": [],
   "source": [
    "processing_Data=sentimentData.copy() #caching to another Dataframe"
   ]
  },
  {
   "cell_type": "code",
   "execution_count": null,
   "metadata": {},
   "outputs": [],
   "source": [
    "# Dropping Columns not required for training the classifier"
   ]
  },
  {
   "cell_type": "code",
   "execution_count": 52,
   "metadata": {},
   "outputs": [],
   "source": [
    "processing_Data.drop(['TweetsID','User_Location','Date','Baseline_Terms','Prediction','Positive','Negative'], axis = 1, inplace = True)"
   ]
  },
  {
   "cell_type": "code",
   "execution_count": null,
   "metadata": {},
   "outputs": [],
   "source": [
    "# Performing labelling encoding"
   ]
  },
  {
   "cell_type": "code",
   "execution_count": 53,
   "metadata": {},
   "outputs": [],
   "source": [
    "processing_Data.loc[processing_Data['Sentiment_score']=='Positive','Sentiment_score']=1"
   ]
  },
  {
   "cell_type": "code",
   "execution_count": 54,
   "metadata": {},
   "outputs": [],
   "source": [
    "processing_Data.loc[processing_Data['Sentiment_score']=='Neutral','Sentiment_score']=0"
   ]
  },
  {
   "cell_type": "code",
   "execution_count": 55,
   "metadata": {},
   "outputs": [],
   "source": [
    "processing_Data.loc[processing_Data['Sentiment_score']=='Negative','Sentiment_score']=-1"
   ]
  },
  {
   "cell_type": "code",
   "execution_count": 56,
   "metadata": {},
   "outputs": [
    {
     "data": {
      "text/html": [
       "<div>\n",
       "<style scoped>\n",
       "    .dataframe tbody tr th:only-of-type {\n",
       "        vertical-align: middle;\n",
       "    }\n",
       "\n",
       "    .dataframe tbody tr th {\n",
       "        vertical-align: top;\n",
       "    }\n",
       "\n",
       "    .dataframe thead th {\n",
       "        text-align: right;\n",
       "    }\n",
       "</style>\n",
       "<table border=\"1\" class=\"dataframe\">\n",
       "  <thead>\n",
       "    <tr style=\"text-align: right;\">\n",
       "      <th></th>\n",
       "      <th>TweetsText</th>\n",
       "      <th>Sentiment_score</th>\n",
       "    </tr>\n",
       "  </thead>\n",
       "  <tbody>\n",
       "    <tr>\n",
       "      <th>0</th>\n",
       "      <td>were doing everything we can to get our studen...</td>\n",
       "      <td>1</td>\n",
       "    </tr>\n",
       "    <tr>\n",
       "      <th>1</th>\n",
       "      <td>dsnap approved for 5 louisiana parishes hit by...</td>\n",
       "      <td>0</td>\n",
       "    </tr>\n",
       "    <tr>\n",
       "      <th>2</th>\n",
       "      <td>hurricanelaura 2020 devastation destruction f...</td>\n",
       "      <td>-1</td>\n",
       "    </tr>\n",
       "    <tr>\n",
       "      <th>3</th>\n",
       "      <td>this is for people in the area who were affect...</td>\n",
       "      <td>0</td>\n",
       "    </tr>\n",
       "    <tr>\n",
       "      <th>4</th>\n",
       "      <td>after suffering catastrophic loss to infrastru...</td>\n",
       "      <td>-1</td>\n",
       "    </tr>\n",
       "  </tbody>\n",
       "</table>\n",
       "</div>"
      ],
      "text/plain": [
       "                                          TweetsText Sentiment_score\n",
       "0  were doing everything we can to get our studen...               1\n",
       "1  dsnap approved for 5 louisiana parishes hit by...               0\n",
       "2   hurricanelaura 2020 devastation destruction f...              -1\n",
       "3  this is for people in the area who were affect...               0\n",
       "4  after suffering catastrophic loss to infrastru...              -1"
      ]
     },
     "execution_count": 56,
     "metadata": {},
     "output_type": "execute_result"
    }
   ],
   "source": [
    "processing_Data.head()"
   ]
  },
  {
   "cell_type": "code",
   "execution_count": 57,
   "metadata": {},
   "outputs": [
    {
     "name": "stdout",
     "output_type": "stream",
     "text": [
      "Total distinct tweets in the dataset: 6848\n"
     ]
    },
    {
     "data": {
      "text/plain": [
       " 0    2902\n",
       "-1    2011\n",
       " 1    1935\n",
       "Name: Sentiment_score, dtype: int64"
      ]
     },
     "execution_count": 57,
     "metadata": {},
     "output_type": "execute_result"
    }
   ],
   "source": [
    "# Comparing the out of the encoding to confirm it talllies with Cell 26(Distinct tweets)\n",
    "print(\"Total distinct tweets in the dataset: {}\".format(processing_Data.shape[0]))\n",
    "Tweet_count = processing_Data['Sentiment_score'].value_counts()\n",
    "Tweet_count"
   ]
  },
  {
   "cell_type": "markdown",
   "metadata": {},
   "source": [
    "# Splitting to Train and Test Data"
   ]
  },
  {
   "cell_type": "code",
   "execution_count": 85,
   "metadata": {},
   "outputs": [],
   "source": [
    "dF_features=processing_Data['TweetsText']\n",
    "dF_target=processing_Data['Sentiment_score']"
   ]
  },
  {
   "cell_type": "code",
   "execution_count": 86,
   "metadata": {},
   "outputs": [],
   "source": [
    "X_train, x_test, y_train, y_test = train_test_split(dF_features, dF_target, test_size=0.2, random_state=11)"
   ]
  },
  {
   "cell_type": "code",
   "execution_count": 87,
   "metadata": {},
   "outputs": [],
   "source": [
    "y_train=y_train.astype('int')\n",
    "expected=y_test=y_test.astype('int')"
   ]
  },
  {
   "cell_type": "code",
   "execution_count": 88,
   "metadata": {},
   "outputs": [
    {
     "name": "stdout",
     "output_type": "stream",
     "text": [
      "\n",
      "\u001b[32mPercentage of training dataset is : 80.0%\u001b[0m\n",
      " 0    2322\n",
      "-1    1610\n",
      " 1    1546\n",
      "Name: Category, dtype: int64\n",
      "\n",
      "\u001b[32mPercentage of testing dataset is: 20.0%\u001b[0m\n",
      " 0    580\n",
      "-1    401\n",
      " 1    389\n",
      "Name: Category, dtype: int64\n"
     ]
    }
   ],
   "source": [
    "print()\n",
    "train_dataset = pd.DataFrame({'TweetsText': X_train,'Category': y_train})\n",
    "print(colored(\"Percentage of training dataset is : %.1f%%\" % (len(train_dataset)/len(processing_Data)*100),\"green\"))\n",
    "print(train_dataset['Category'].value_counts())\n",
    "print()\n",
    "\n",
    "\n",
    "test_dataset = pd.DataFrame({'TweetsText': x_test,'Category': y_test})\n",
    "print(colored(\"Percentage of testing dataset is: %.1f%%\" % (len(test_dataset)/len(processing_Data)*100),\"green\"))\n",
    "print(test_dataset['Category'].value_counts())\n",
    "\n",
    "train_tweet_label =train_dataset['Category'].astype('int')\n",
    "test_tweet_label = test_dataset['Category'].astype('int')"
   ]
  },
  {
   "cell_type": "markdown",
   "metadata": {},
   "source": [
    "# Performing Features Extraction"
   ]
  },
  {
   "cell_type": "code",
   "execution_count": 83,
   "metadata": {},
   "outputs": [],
   "source": [
    "features_Extractor=TfidfVectorizer(analyzer=lemmatize_func,min_df=1,stop_words=STOPWORDS)"
   ]
  },
  {
   "cell_type": "code",
   "execution_count": 89,
   "metadata": {},
   "outputs": [],
   "source": [
    "train_tweet_vector =features_Extractor.fit_transform(train_dataset['TweetsText'])\n",
    "test_tweet_vector = features_Extractor.transform(test_dataset['TweetsText'])"
   ]
  },
  {
   "cell_type": "code",
   "execution_count": 90,
   "metadata": {},
   "outputs": [],
   "source": [
    "MNB_estimator = classifier(MultinomialNB(),train_tweet_vector,train_tweet_label,test_tweet_vector) #MNB_estimator"
   ]
  },
  {
   "cell_type": "code",
   "execution_count": 91,
   "metadata": {},
   "outputs": [],
   "source": [
    "decisionTree_estimator=classifier(DecisionTreeClassifier(),train_tweet_vector,train_tweet_label,test_tweet_vector) #decisionTree_estimator"
   ]
  },
  {
   "cell_type": "markdown",
   "metadata": {},
   "source": [
    "# Model Evaluation:"
   ]
  },
  {
   "cell_type": "markdown",
   "metadata": {},
   "source": [
    "# Accuracy Scores"
   ]
  },
  {
   "cell_type": "code",
   "execution_count": 92,
   "metadata": {},
   "outputs": [
    {
     "name": "stdout",
     "output_type": "stream",
     "text": [
      "       MultinomialNB: accuracy score=55.26%; \n",
      "        DecisionTree: accuracy score=61.02%; \n"
     ]
    }
   ],
   "source": [
    "accuracy()"
   ]
  },
  {
   "cell_type": "markdown",
   "metadata": {},
   "source": [
    "# Classification_Reports"
   ]
  },
  {
   "cell_type": "code",
   "execution_count": 93,
   "metadata": {},
   "outputs": [
    {
     "name": "stdout",
     "output_type": "stream",
     "text": [
      "\u001b[32m       MultinomialNB: classification_report\u001b[0m\n",
      "              precision    recall  f1-score   support\n",
      "\n",
      "          -1       0.77      0.24      0.36       401\n",
      "           0       0.49      0.93      0.64       580\n",
      "           1       0.83      0.31      0.46       389\n",
      "\n",
      "    accuracy                           0.55      1370\n",
      "   macro avg       0.70      0.49      0.49      1370\n",
      "weighted avg       0.67      0.55      0.51      1370\n",
      "\n",
      "\u001b[32m        DecisionTree: classification_report\u001b[0m\n",
      "              precision    recall  f1-score   support\n",
      "\n",
      "          -1       0.59      0.51      0.55       401\n",
      "           0       0.58      0.64      0.61       580\n",
      "           1       0.60      0.59      0.60       389\n",
      "\n",
      "    accuracy                           0.59      1370\n",
      "   macro avg       0.59      0.58      0.58      1370\n",
      "weighted avg       0.59      0.59      0.59      1370\n",
      "\n"
     ]
    }
   ],
   "source": [
    "classification_Reports()"
   ]
  },
  {
   "cell_type": "markdown",
   "metadata": {},
   "source": [
    "# Cross Validation using 10 folds"
   ]
  },
  {
   "cell_type": "code",
   "execution_count": 94,
   "metadata": {},
   "outputs": [
    {
     "name": "stdout",
     "output_type": "stream",
     "text": [
      "\u001b[32m       MultinomialNB: mean accuracy=53.56%; standard deviation=1.52%\u001b[0m\n",
      "\u001b[32m        DecisionTree: mean accuracy=58.82%; standard deviation=1.26%\u001b[0m\n"
     ]
    }
   ],
   "source": [
    "validation_Report()  #Cross Validation using 10 folds"
   ]
  },
  {
   "cell_type": "markdown",
   "metadata": {},
   "source": [
    "# Confusion_Matrix"
   ]
  },
  {
   "cell_type": "code",
   "execution_count": 101,
   "metadata": {},
   "outputs": [
    {
     "name": "stdout",
     "output_type": "stream",
     "text": [
      "\u001b[32m       MultinomialNB: confusion matrix score\u001b[0m\n",
      "[[ 95 299   7]\n",
      " [ 22 540  18]\n",
      " [  6 261 122]]\n",
      "\n",
      "\u001b[32m        DecisionTree: confusion matrix score\u001b[0m\n",
      "[[227 132  42]\n",
      " [ 98 378 104]\n",
      " [ 44 114 231]]\n",
      "\n"
     ]
    },
    {
     "data": {
      "image/png": "[encoded data removed]",
      "text/plain": [
       "<Figure size 432x288 with 2 Axes>"
      ]
     },
     "metadata": {
      "needs_background": "light"
     },
     "output_type": "display_data"
    },
    {
     "data": {
      "image/png": "[encoded data removed]",
      "text/plain": [
       "<Figure size 576x576 with 2 Axes>"
      ]
     },
     "metadata": {
      "needs_background": "light"
     },
     "output_type": "display_data"
    },
    {
     "data": {
      "text/plain": [
       "<Figure size 576x576 with 0 Axes>"
      ]
     },
     "metadata": {},
     "output_type": "display_data"
    }
   ],
   "source": [
    "confusion_Matrix()"
   ]
  },
  {
   "cell_type": "markdown",
   "metadata": {},
   "source": [
    "# AUC ROC"
   ]
  },
  {
   "cell_type": "code",
   "execution_count": 99,
   "metadata": {},
   "outputs": [],
   "source": [
    "plot_roc_curve()"
   ]
  },
  {
   "cell_type": "code",
   "execution_count": null,
   "metadata": {},
   "outputs": [],
   "source": []
  },
  {
   "cell_type": "markdown",
   "metadata": {},
   "source": [
    "# Pre-Processing functions"
   ]
  },
  {
   "cell_type": "code",
   "execution_count": 67,
   "metadata": {},
   "outputs": [],
   "source": [
    "# 1.User defined functuions to replace Emoji`s found in tweets"
   ]
  },
  {
   "cell_type": "code",
   "execution_count": 68,
   "metadata": {},
   "outputs": [],
   "source": [
    "def handle_emojis(tweet):\n",
    "    # Smile -- :), : ), :-), (:, ( :, (-:, :')\n",
    "    tweet = re.sub(r'(:\\s?\\)|:-\\)|\\(\\s?:|\\(-:|:\\'\\))', ' EMO_POS ', tweet)\n",
    "    # Laugh -- :D, : D, :-D, xD, x-D, XD, X-D\n",
    "    tweet = re.sub(r'(:\\s?D|:-D|x-?D|X-?D)', ' EMO_POS ', tweet)\n",
    "    # Love -- <3, :*\n",
    "    tweet = re.sub(r'(<3|:\\*)', ' EMO_POS ', tweet)\n",
    "    # Wink -- ;-), ;), ;-D, ;D, (;,  (-;\n",
    "    tweet = re.sub(r'(;-?\\)|;-?D|\\(-?;)', ' EMO_POS ', tweet)\n",
    "    # Sad -- :-(, : (, :(, ):, )-:\n",
    "    tweet = re.sub(r'(:\\s?\\(|:-\\(|\\)\\s?:|\\)-:)', ' EMO_NEG ', tweet)\n",
    "    # Cry -- :,(, :'(, :\"(\n",
    "    tweet = re.sub(r'(:,\\(|:\\'\\(|:\"\\()', ' EMO_NEG ', tweet)\n",
    "    return tweet"
   ]
  },
  {
   "cell_type": "code",
   "execution_count": null,
   "metadata": {},
   "outputs": [],
   "source": [
    "# 2.User defined functuions to remove noise from tweets"
   ]
  },
  {
   "cell_type": "code",
   "execution_count": 69,
   "metadata": {},
   "outputs": [],
   "source": [
    "def process_tweet(tweet):\n",
    "    processed_tweet = []\n",
    "    # Convert to lower case\n",
    "    tweet = tweet.lower()\n",
    "    # Replaces URLs with the word URL\n",
    "    tweet = re.sub(r'((www\\.[\\S]+)|(https?://[\\S]+))', ' URL ', tweet)\n",
    "    # Replace @handle with the word USER_MENTION\n",
    "    tweet = re.sub(r'@[\\S]+', 'USER_MENTION', tweet)\n",
    "    # Replaces #hashtag with hashtag\n",
    "    tweet = re.sub(r'#(\\S+)', r' \\1 ', tweet)\n",
    "    # Remove RT (retweet)\n",
    "    tweet = re.sub(r'\\brt\\b', 'RT', tweet)\n",
    "    # Replace 2+ dots with space\n",
    "    tweet = re.sub(r'\\.{2,}', ' ', tweet)\n",
    "    # Strip space, \" and ' from tweet\n",
    "    tweet = tweet.strip(' \"\\'')\n",
    "    # Replace emojis with either EMO_POS or EMO_NEG\n",
    "    tweet = handle_emojis(tweet)\n",
    "    # Replace multiple spaces with a single space\n",
    "    tweet = re.sub(r'\\s+', ' ', tweet)\n",
    "    words = tweet.split()\n",
    "    return ' '.join(words)"
   ]
  },
  {
   "cell_type": "code",
   "execution_count": null,
   "metadata": {},
   "outputs": [],
   "source": [
    "# 3.User defined functuions to tokennize tweets"
   ]
  },
  {
   "cell_type": "code",
   "execution_count": 70,
   "metadata": {},
   "outputs": [],
   "source": [
    "def lemmatize_func(tweets):\n",
    "    tweets_Text=tweets.lower()\n",
    "    words = word_tokenize(tweets_Text)\n",
    "    valid_Words=[]\n",
    "    for word in words :\n",
    "        if word in STOPWORDS:continue\n",
    "        valid_Words.append(word)\n",
    "    return [lemma.lemmatize(word) for word in valid_Words]"
   ]
  },
  {
   "cell_type": "code",
   "execution_count": 71,
   "metadata": {},
   "outputs": [],
   "source": [
    "# 4.User defined Dynamic Estimators/Classifiers"
   ]
  },
  {
   "cell_type": "code",
   "execution_count": 72,
   "metadata": {},
   "outputs": [],
   "source": [
    "def classifier(estimator,training_features,training_labels,test_features):\n",
    "    estimator_object = estimator\n",
    "    estimator_object.fit(training_features, training_labels)\n",
    "    predicted= estimator_object.predict(test_features)\n",
    "    return predicted"
   ]
  },
  {
   "cell_type": "code",
   "execution_count": 73,
   "metadata": {},
   "outputs": [],
   "source": [
    "# 5.User defined enumerator to group classifier"
   ]
  },
  {
   "cell_type": "code",
   "execution_count": 74,
   "metadata": {},
   "outputs": [],
   "source": [
    "estimators = {\n",
    "    'MultinomialNB': MultinomialNB(),\n",
    "     'DecisionTree': DecisionTreeClassifier()\n",
    "}"
   ]
  },
  {
   "cell_type": "code",
   "execution_count": null,
   "metadata": {},
   "outputs": [],
   "source": [
    "# 6.User defined function to compute 10-fold cross-validation"
   ]
  },
  {
   "cell_type": "code",
   "execution_count": 75,
   "metadata": {},
   "outputs": [],
   "source": [
    "def validation_Report():\n",
    "    for estimator_name, estimator_object in estimators.items():\n",
    "        kfold = KFold(n_splits=10, random_state=7, shuffle=True)\n",
    "        scores = cross_val_score(estimator=estimator_object,\n",
    "        X=train_tweet_vector, y=train_tweet_label, cv=kfold)\n",
    "        print(colored(f'{estimator_name:>20}: ' +\n",
    "        f'mean accuracy={scores.mean():.2%}; ' +\n",
    "        f'standard deviation={scores.std():.2%}',\"green\"))"
   ]
  },
  {
   "cell_type": "code",
   "execution_count": null,
   "metadata": {},
   "outputs": [],
   "source": [
    "# 7. Function to compute Accuracy"
   ]
  },
  {
   "cell_type": "code",
   "execution_count": 76,
   "metadata": {},
   "outputs": [],
   "source": [
    "def accuracy():\n",
    "    for estimator_name, estimator_object in estimators.items():\n",
    "        model=estimator_object\n",
    "        model.fit(train_tweet_vector,train_tweet_label)\n",
    "        scores =model.score(test_tweet_vector, test_tweet_label)\n",
    "        print(f'{estimator_name:>20}: ' +\n",
    "        f'accuracy score={scores:.2%}; ')"
   ]
  },
  {
   "cell_type": "code",
   "execution_count": null,
   "metadata": {},
   "outputs": [],
   "source": [
    "# 8. Function to plot Confusion Matrix"
   ]
  },
  {
   "cell_type": "code",
   "execution_count": 100,
   "metadata": {},
   "outputs": [],
   "source": [
    "def confusion_Matrix():\n",
    "    for estimator_name, estimator_object in estimators.items():\n",
    "        model=estimator_object\n",
    "        confusion = confusion_matrix(test_tweet_label, classifier(model,train_tweet_vector,train_tweet_label,test_tweet_vector))\n",
    "        print(colored(f'{estimator_name:>20}: ' +\n",
    "        f'confusion matrix score',\"green\"))\n",
    "        print(confusion)\n",
    "        confusion_df = pd.DataFrame(confusion, index=range(3),columns=range(3))\n",
    "        print()\n",
    "        ax= plt.subplot()\n",
    "        sns.heatmap(confusion_df, annot=True,ax=ax,cmap='nipy_spectral_r',fmt ='d') \n",
    "        plt.figure(figsize=(8, 8))\n",
    "        # labels, title and ticks\n",
    "        ax.set_xlabel('Predicted labels');ax.set_ylabel('True labels'); \n",
    "        ax.set_title('Confusion Matrix:'f'{estimator_name:>20}'); \n",
    "        ax.xaxis.set_ticklabels(['Neutral', 'Negative','Positive']); ax.yaxis.set_ticklabels(['Neutral', 'Negative','Positive'])"
   ]
  },
  {
   "cell_type": "code",
   "execution_count": null,
   "metadata": {},
   "outputs": [],
   "source": [
    "# 9. Function to plot AUC ROC"
   ]
  },
  {
   "cell_type": "code",
   "execution_count": 79,
   "metadata": {},
   "outputs": [],
   "source": [
    "def plot_roc_curve():\n",
    "    for estimator_name, estimator_object in estimators.items():\n",
    "        model=estimator_object\n",
    "        model.fit(train_tweet_vector,train_tweet_label)\n",
    "        preds = model.predict_proba(test_tweet_vector)[:,1]\n",
    "        fpr, tpr, threshold = roc_curve(expected, preds)\n",
    "        roc_auc = auc(fpr, tpr)\n",
    "        plt.title('Receiver Operating Characteristic:'f'{estimator_name:>20}')\n",
    "        plt.plot(fpr, tpr, 'b', label = 'AUC = %0.2f' % roc_auc)\n",
    "        plt.legend(loc = 'lower right')\n",
    "        plt.plot([0, 1], [0, 1],'r--')\n",
    "        plt.xlim([0, 1])\n",
    "        plt.ylim([0, 1])\n",
    "        plt.ylabel('True Positive Rate')\n",
    "        plt.xlabel('False Positive Rate')\n",
    "        plt.show()"
   ]
  },
  {
   "cell_type": "code",
   "execution_count": null,
   "metadata": {},
   "outputs": [],
   "source": [
    "# 10. Function to compute classification report"
   ]
  },
  {
   "cell_type": "code",
   "execution_count": 80,
   "metadata": {},
   "outputs": [],
   "source": [
    "def classification_Reports():\n",
    "    for estimator_name, estimator_object in estimators.items():\n",
    "        model=estimator_object\n",
    "        class_reports = (classification_report(test_tweet_label, classifier(model,train_tweet_vector,train_tweet_label,test_tweet_vector)))\n",
    "        #scores =model.score(test_tweet_vector, test_tweet_label)\n",
    "        print(colored(f'{estimator_name:>20}: ' +\n",
    "        f'classification_report',\"green\"))\n",
    "        print(class_reports)"
   ]
  },
  {
   "cell_type": "code",
   "execution_count": null,
   "metadata": {},
   "outputs": [],
   "source": []
  }
 ],
 "metadata": {
  "kernelspec": {
   "display_name": "Python 3",
   "language": "python",
   "name": "python3"
  },
  "language_info": {
   "codemirror_mode": {
    "name": "ipython",
    "version": 3
   },
   "file_extension": ".py",
   "mimetype": "text/x-python",
   "name": "python",
   "nbconvert_exporter": "python",
   "pygments_lexer": "ipython3",
   "version": "3.7.7"
  }
 },
 "nbformat": 4,
 "nbformat_minor": 4
}
